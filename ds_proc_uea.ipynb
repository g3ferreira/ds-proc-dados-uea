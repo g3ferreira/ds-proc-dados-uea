{
  "cells": [
    {
      "cell_type": "markdown",
      "metadata": {
        "id": "view-in-github",
        "colab_type": "text"
      },
      "source": [
        "<a href=\"https://colab.research.google.com/github/g3ferreira/ds-proc-dados-uea/blob/teste1/ds_proc_uea.ipynb\" target=\"_parent\"><img src=\"https://colab.research.google.com/assets/colab-badge.svg\" alt=\"Open In Colab\"/></a>"
      ]
    },
    {
      "cell_type": "code",
      "metadata": {
        "id": "GDKLnKd0Y8Hm"
      },
      "source": [
        "testando \n",
        "\n",
        "\n",
        "asdhshduahdasudasdasdu\n",
        "\n",
        "atualizando"
      ],
      "execution_count": null,
      "outputs": []
    }
  ],
  "metadata": {
    "colab": {
      "name": "ds-proc-uea.ipynb",
      "provenance": [],
      "authorship_tag": "ABX9TyMLnv6o6EWzRwO+2RgpUgKM",
      "include_colab_link": true
    },
    "kernelspec": {
      "name": "python3",
      "display_name": "Python 3"
    }
  },
  "nbformat": 4,
  "nbformat_minor": 0
}